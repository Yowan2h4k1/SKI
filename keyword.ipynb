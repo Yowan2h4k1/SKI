{
 "cells": [
  {
   "cell_type": "code",
   "execution_count": 1,
   "metadata": {},
   "outputs": [],
   "source": [
    "import requests\n",
    "from bs4 import BeautifulSoup\n",
    "import pandas as pd"
   ]
  },
  {
   "cell_type": "code",
   "execution_count": 2,
   "metadata": {},
   "outputs": [],
   "source": [
    "# 기업명과 키워드 목록\n",
    "companies = [\n",
    "    \"Saudi Arabian Oil Co\", \"Shell plc\", \"Chevron Corp\", \"SK\", \n",
    "    \"China Petroleum & Chemical Corp\", \"BP p.l.c\", \"University\", \n",
    "    \"Petrobras\", \"Eni S.p.A\", \"TotalEnergies SE\", \"PetroChina Co. Ltd\", \n",
    "    \"Equinor ASA\", \"Suncor Energy Inc\", \"Exxon Mobil Corp\", \n",
    "    \"schlumberger technology cooperation\"\n",
    "]\n",
    "\n",
    "keywords = [\n",
    "    \"M&A\", \"cooperat\", \"alliance\", \"joint\", \n",
    "    \"partnership\", \"collaborat\", \"aggrement\", \"co-brand\"\n",
    "]"
   ]
  },
  {
   "cell_type": "code",
   "execution_count": 3,
   "metadata": {},
   "outputs": [],
   "source": [
    "results = []"
   ]
  },
  {
   "cell_type": "code",
   "execution_count": 15,
   "metadata": {},
   "outputs": [],
   "source": [
    "headers = {\n",
    "    'User-Agent': 'Mozilla/5.0 (Windows NT 10.0; Win64; x64) AppleWebKit/537.36 (KHTML, like Gecko) Chrome/58.0.3029.110 Safari/537.3'\n",
    "}\n",
    "\n",
    "for company in companies:\n",
    "    for keyword in keywords:\n",
    "        query = f'\"{company}\" + (\"{\" OR \".join(keywords)}\")'\n",
    "        url = f'https://news.google.com/search?q={query}&hl=en-US&gl=US&ceid=US:en'\n",
    "        \n",
    "        try:\n",
    "            response = requests.get(url, headers=headers, timeout=30)\n",
    "            soup = BeautifulSoup(response.text, 'html.parser')\n",
    "\n",
    "            # 기사 제목 찾기\n",
    "            for item in soup.find_all('h3'):\n",
    "                title = item.get_text()\n",
    "                results.append({'Company': company, 'Keyword': keyword, 'Title': title})\n",
    "        except requests.exceptions.RequestException as e:\n",
    "            print(f\"Error fetching {url}: {e}\")"
   ]
  },
  {
   "cell_type": "code",
   "execution_count": 19,
   "metadata": {},
   "outputs": [
    {
     "name": "stdout",
     "output_type": "stream",
     "text": [
      "Data has been saved to news_titles.xlsx\n"
     ]
    }
   ],
   "source": [
    "import pandas as pd\n",
    "\n",
    "# 크롤링한 데이터가 'results' 리스트에 저장되어 있다고 가정\n",
    "df = pd.DataFrame(results)\n",
    "\n",
    "# 결과를 엑셀 파일로 저장\n",
    "excel_filename = 'news_titles.xlsx'\n",
    "df.to_excel(excel_filename, index=False)\n",
    "\n",
    "print(f\"Data has been saved to {excel_filename}\")"
   ]
  },
  {
   "cell_type": "code",
   "execution_count": null,
   "metadata": {},
   "outputs": [],
   "source": []
  }
 ],
 "metadata": {
  "kernelspec": {
   "display_name": "Python 3 (ipykernel)",
   "language": "python",
   "name": "python3"
  },
  "language_info": {
   "codemirror_mode": {
    "name": "ipython",
    "version": 3
   },
   "file_extension": ".py",
   "mimetype": "text/x-python",
   "name": "python",
   "nbconvert_exporter": "python",
   "pygments_lexer": "ipython3",
   "version": "3.11.5"
  }
 },
 "nbformat": 4,
 "nbformat_minor": 4
}
