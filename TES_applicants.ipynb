{
 "cells": [
  {
   "cell_type": "code",
   "execution_count": 1,
   "id": "a3d28fd9",
   "metadata": {},
   "outputs": [],
   "source": [
    "import pandas as pd"
   ]
  },
  {
   "cell_type": "code",
   "execution_count": 2,
   "id": "5979bbdb",
   "metadata": {},
   "outputs": [],
   "source": [
    "df = pd.read_csv('TES_patents.csv')"
   ]
  },
  {
   "cell_type": "code",
   "execution_count": 3,
   "id": "d2c2f724",
   "metadata": {},
   "outputs": [],
   "source": [
    "applicants_raw = df['출원인']"
   ]
  },
  {
   "cell_type": "code",
   "execution_count": 4,
   "id": "0ffbaeea",
   "metadata": {},
   "outputs": [],
   "source": [
    "#일차적으로 겹치는 항목 제거\n",
    "applicants = applicants_raw.unique().tolist()"
   ]
  },
  {
   "cell_type": "code",
   "execution_count": 5,
   "id": "9b9ad0a1",
   "metadata": {},
   "outputs": [
    {
     "data": {
      "text/plain": [
       "4648"
      ]
     },
     "execution_count": 5,
     "metadata": {},
     "output_type": "execute_result"
    }
   ],
   "source": [
    "len(applicants)"
   ]
  },
  {
   "cell_type": "code",
   "execution_count": null,
   "id": "7ef44865",
   "metadata": {},
   "outputs": [],
   "source": []
  },
  {
   "cell_type": "code",
   "execution_count": 6,
   "id": "dc1c4528",
   "metadata": {},
   "outputs": [],
   "source": [
    "from fuzzywuzzy import process\n",
    "import pandas as pd"
   ]
  },
  {
   "cell_type": "code",
   "execution_count": 7,
   "id": "4d7527bc",
   "metadata": {},
   "outputs": [],
   "source": [
    "threshold = 80\n",
    "unique_applicants = set()\n",
    "\n",
    "#일정수준 이상 유사한 단어 제외하고 리스트 생성 \n",
    "for applicant in applicants:\n",
    "    # unique_applicants 집합이 비어 있으면 첫 번째 항목을 직접 추가\n",
    "    if not isinstance(applicant, str):\n",
    "        continue\n",
    "    \n",
    "    if not unique_applicants:\n",
    "        unique_applicants.add(applicant)\n",
    "        continue\n",
    "\n",
    "    # 모든 가능한 매칭과 유사도를 가져옴\n",
    "    matches = process.extract(applicant, unique_applicants, limit=None)\n",
    "\n",
    "    # 가장 높은 유사도를 가진 항목 찾기\n",
    "    if not matches or max(matches, key=lambda x: x[1])[1] < threshold:\n",
    "        unique_applicants.add(applicant)"
   ]
  },
  {
   "cell_type": "code",
   "execution_count": 8,
   "id": "43c0dee9",
   "metadata": {},
   "outputs": [
    {
     "data": {
      "text/plain": [
       "894"
      ]
     },
     "execution_count": 8,
     "metadata": {},
     "output_type": "execute_result"
    }
   ],
   "source": [
    "len(unique_applicants)"
   ]
  },
  {
   "cell_type": "code",
   "execution_count": 17,
   "id": "8a1d509e",
   "metadata": {},
   "outputs": [],
   "source": [
    "import requests\n",
    "from bs4 import BeautifulSoup\n",
    "import itertools\n",
    "import pandas as pd\n",
    "from datetime import datetime, timedelta\n",
    "import pytz"
   ]
  },
  {
   "cell_type": "code",
   "execution_count": 10,
   "id": "faeda0aa",
   "metadata": {},
   "outputs": [],
   "source": [
    "big = [\n",
    "    \"Saudi Arabian Oil\", \"Shell\", \"Chevron\", \"SK innovation\", \n",
    "    \"China Petroleum\", \"BP p.l.c\", \"University\", \n",
    "    \"Petrobras\", \"Eni S.p.A\", \"TotalEnergies\", \"PetroChina\", \n",
    "    \"Equinor ASA\", \"Suncor Energy\", \"Exxon Mobil\", \n",
    "    \"schlumberger\"\n",
    "]"
   ]
  },
  {
   "cell_type": "code",
   "execution_count": 11,
   "id": "2b8b85cd",
   "metadata": {},
   "outputs": [],
   "source": [
    "companies = big+list(unique_applicants)"
   ]
  },
  {
   "cell_type": "code",
   "execution_count": 19,
   "id": "5ef0d205",
   "metadata": {},
   "outputs": [],
   "source": [
    "results = []\n",
    "utc=pytz.UTC\n",
    "two_years_ago = datetime.now(utc) - timedelta(days=2*365)"
   ]
  },
  {
   "cell_type": "code",
   "execution_count": 13,
   "id": "64ee8490",
   "metadata": {},
   "outputs": [],
   "source": [
    "company_pairs = list(itertools.combinations(companies, 2))"
   ]
  },
  {
   "cell_type": "code",
   "execution_count": null,
   "id": "205fd6e1",
   "metadata": {},
   "outputs": [],
   "source": [
    "# 각 쌍에 대해 검색 및 크롤링\n",
    "for pair in company_pairs:\n",
    "    query = f'\"{pair[0]}\" \"{pair[1]}\"'\n",
    "    url = f'https://news.google.com/search?q={query}%20when%3A1y&hl=en-US&gl=US&ceid=US:en'\n",
    "    \n",
    "    response = requests.get(url)\n",
    "    soup = BeautifulSoup(response.text, 'html.parser')\n",
    "\n",
    "    # 기사 제목 및 날짜 찾기\n",
    "    for item in soup.find_all('article'):\n",
    "        title = item.find('h3').get_text() if item.find('h3') else None\n",
    "        date_str = item.find('time')['datetime'] if item.find('time') else None\n",
    "\n",
    "        # 날짜 파싱 및 검증\n",
    "        if date_str:\n",
    "            article_date = datetime.fromisoformat(date_str)\n",
    "            if article_date >= two_years_ago and pair[0] in title and pair[1] in title:\n",
    "                results.append({'Company1': pair[0], 'Company2': pair[1], 'Title': title, 'Date': article_date})"
   ]
  }
 ],
 "metadata": {
  "kernelspec": {
   "display_name": "Python 3 (ipykernel)",
   "language": "python",
   "name": "python3"
  },
  "language_info": {
   "codemirror_mode": {
    "name": "ipython",
    "version": 3
   },
   "file_extension": ".py",
   "mimetype": "text/x-python",
   "name": "python",
   "nbconvert_exporter": "python",
   "pygments_lexer": "ipython3",
   "version": "3.11.5"
  }
 },
 "nbformat": 4,
 "nbformat_minor": 5
}
